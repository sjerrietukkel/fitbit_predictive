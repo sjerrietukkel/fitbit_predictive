{
 "cells": [
  {
   "cell_type": "markdown",
   "metadata": {},
   "source": [
    "# Linear Regression Assignment \n",
    "\n",
    "## Introduction\n",
    "For this assignment, we are going to explore data from activity trackers. Activity trackers are applications that track your activity using your smartphone, a smartwatch, wrist band or a clip-on device. Popular applications include Steps (iPhone), Apple Watch, Fitbit and Jawbone. For a study in France, over 900 volunteers received a Fitbit Zip (a clip-on activity tracker) and recorded their daily steps, distance and calories. "
   ]
  },
  {
   "cell_type": "code",
   "execution_count": 228,
   "metadata": {},
   "outputs": [],
   "source": [
    "import seaborn as sns #this is the plotting library I'll be using \n",
    "import pandas as pd #\"as pd\" means that we can use the abbreviation in commands\n",
    "import matplotlib.pyplot as plt #we need Matplotlib for setting the labels in the Seaborn graphs\n",
    "import numpy as np"
   ]
  },
  {
   "cell_type": "markdown",
   "metadata": {},
   "source": [
    "## Read & Merge files\n",
    "We will merge the csv files on the 'id'-row, since both datasets use it. \n",
    "Also, by using `sep=None`, pandas will automatically recognize the seperator. \n"
   ]
  },
  {
   "cell_type": "code",
   "execution_count": 229,
   "metadata": {},
   "outputs": [
    {
     "data": {
      "text/plain": [
       "72.0     40\n",
       "65.0     35\n",
       "73.0     32\n",
       "80.0     31\n",
       "55.0     31\n",
       "         ..\n",
       "128.0     1\n",
       "116.0     1\n",
       "102.0     1\n",
       "101.0     1\n",
       "105.0     1\n",
       "Name: weight, Length: 72, dtype: int64"
      ]
     },
     "execution_count": 229,
     "metadata": {},
     "output_type": "execute_result"
    }
   ],
   "source": [
    "df1= pd.read_csv('survey.csv', encoding='UTF-8')\n",
    "df2 = pd.read_csv('steps.csv', encoding='UTF-8', sep=None, engine='python')\n",
    "\n",
    "df = pd.merge(df1, df2, on = 'id')\n",
    "\n",
    "\n",
    "df['weight'].value_counts() #Get all the values. This may be less useful when there are many values."
   ]
  },
  {
   "cell_type": "markdown",
   "metadata": {},
   "source": [
    "## Data Cleaning\n",
    "\n",
    "We will remove unlikely values, ex. `weight > 200kg`  or  `weight < 30kg` if these are true, the entire row will be set to NaN."
   ]
  },
  {
   "cell_type": "code",
   "execution_count": 230,
   "metadata": {},
   "outputs": [
    {
     "data": {
      "image/png": "[encoded data removed]",
      "text/plain": [
       "<Figure size 360x360 with 1 Axes>"
      ]
     },
     "metadata": {
      "needs_background": "light"
     },
     "output_type": "display_data"
    }
   ],
   "source": [
    "df['weight'] = df['weight'].apply(pd.to_numeric, errors='coerce')\n",
    "\n",
    "def above_200(weight):\n",
    "    if(weight > 200.0): \n",
    "        return float('NaN')\n",
    "    else: \n",
    "        return weight\n",
    "    \n",
    "def below_30(weight):\n",
    "    if(weight < 30.0):\n",
    "        return float('NaN')\n",
    "    else: \n",
    "        return weight\n",
    "    \n",
    "df['weight'] = df['weight'].apply(above_200)\n",
    "df['weight'] = df['weight'].apply(below_30)\n",
    "\n",
    "\n",
    "sns.displot(df['weight'].dropna(), kde=False) #Selecting the rating column. I need to drop the NA's for the plot\n",
    "plt.title('Weight of Fitbit users.')\n",
    "plt.xlabel('Weight (kg)')\n",
    "plt.ylabel('Count')\n",
    "plt.show()"
   ]
  },
  {
   "cell_type": "markdown",
   "metadata": {},
   "source": [
    "## Feature Engineering\n",
    "I want to calculate a bmi score for each participant in order to see how healthy they really are. There are however a couple of caviats. We don't have an accurate age, so we have to generalize it. Also, bmi scores are not representitive if the participant is pregnant, very muscular or is of Asian descent. \n",
    "\n",
    "To combat the the first issue I will take the middle of the age categories. \n",
    "\n",
    "The formula to calculate bmi is `weight / height²`. Weight in kg, Height in m.\n",
    "The value this outputs can than be used in combination with the participant's age in order to give them a health score."
   ]
  },
  {
   "cell_type": "code",
   "execution_count": 231,
   "metadata": {},
   "outputs": [
    {
     "name": "stdout",
     "output_type": "stream",
     "text": [
      "   id         city  gender    age  hh_size  education          education_1  \\\n",
      "0   1     Bordeaux    Male  25-34        4          4  Master or doctorate   \n",
      "1   2        Lille    Male  35-44        1          3             Bachelor   \n",
      "2   3  Montpellier    Male  25-34        2          2  Master or doctorate   \n",
      "3   4         Lyon    Male    <25        1          1             Bachelor   \n",
      "4   5  Montpellier  Female  25-34        3          4             Bachelor   \n",
      "\n",
      "   height  weight  20-6-2013  ...  7-5-2014  8-5-2014  9-5-2014  10-5-2014  \\\n",
      "0   178.0    98.0        NaN  ...       NaN       NaN       NaN        NaN   \n",
      "1   180.0    77.0        NaN  ...       NaN       NaN       NaN        NaN   \n",
      "2   180.0    83.0        NaN  ...       NaN       NaN    6227.0     4567.0   \n",
      "3   178.0    80.0        NaN  ...       NaN       NaN       NaN        NaN   \n",
      "4   167.0    61.0        NaN  ...       NaN       NaN       NaN        NaN   \n",
      "\n",
      "   11-5-2014  12-5-2014  13-5-2014  ave_age  bmi_score   bmi_value  \n",
      "0        NaN        NaN        NaN     30.0  30.930438       obese  \n",
      "1        NaN        NaN        NaN     40.0  23.765432     healthy  \n",
      "2     2567.0     1129.0        NaN     30.0  25.617284  overweight  \n",
      "3        NaN        NaN        NaN     20.0  25.249337  overweight  \n",
      "4        NaN        NaN        NaN     30.0  21.872423     healthy  \n",
      "\n",
      "[5 rows x 340 columns]\n"
     ]
    }
   ],
   "source": [
    "def average_age(age):\n",
    "    if age == '<25':\n",
    "        return 20\n",
    "    elif age == '25-34':\n",
    "        return 30\n",
    "    elif age == '35-44':\n",
    "        return 40\n",
    "    elif age == '45-54':\n",
    "        return 50\n",
    "    elif age == '55-64':\n",
    "        return 60\n",
    "    elif age == '65-74':\n",
    "        return 70\n",
    "    elif age == '75-84':\n",
    "        return 80\n",
    "\n",
    "def bmi_value(bmi_score):\n",
    "    if bmi_score < 18.5:\n",
    "        return 'underweight'\n",
    "    elif bmi_score < 25.0:\n",
    "        return 'healthy'\n",
    "    elif bmi_score < 30.0:\n",
    "        return 'overweight'\n",
    "    elif bmi_score <= 35.0:\n",
    "        return 'obese'\n",
    "    elif bmi_score > 35.0:\n",
    "        return 'extreme obese'\n",
    "\n",
    "\n",
    "\n",
    "df['ave_age'] = df['age'].apply(average_age)\n",
    "df['bmi_score'] = (df['weight'] / ((df['height'] / 100) * (df['height']) / 100))\n",
    "df['bmi_value'] = df['bmi_score'].apply(bmi_value)\n",
    "print(df.head())"
   ]
  },
  {
   "cell_type": "markdown",
   "metadata": {},
   "source": [
    "## Exploratory data analysis\n"
   ]
  },
  {
   "cell_type": "code",
   "execution_count": 232,
   "metadata": {},
   "outputs": [
    {
     "name": "stdout",
     "output_type": "stream",
     "text": [
      "   id         city  gender    age  hh_size  education          education_1  \\\n",
      "0   1     Bordeaux    Male  25-34        4          4  Master or doctorate   \n",
      "1   2        Lille    Male  35-44        1          3             Bachelor   \n",
      "2   3  Montpellier    Male  25-34        2          2  Master or doctorate   \n",
      "3   4         Lyon    Male    <25        1          1             Bachelor   \n",
      "4   5  Montpellier  Female  25-34        3          4             Bachelor   \n",
      "\n",
      "   height  weight  ave_age  bmi_score   bmi_value          mspp  \n",
      "0   178.0    98.0     30.0  30.930438       obese  10205.521212  \n",
      "1   180.0    77.0     40.0  23.765432     healthy   5687.423313  \n",
      "2   180.0    83.0     30.0  25.617284  overweight   8301.729730  \n",
      "3   178.0    80.0     20.0  25.249337  overweight   3633.200000  \n",
      "4   167.0    61.0     30.0  21.872423     healthy   5312.129630  \n"
     ]
    },
    {
     "data": {
      "image/png": "[encoded data removed]",
      "text/plain": [
       "<Figure size 360x360 with 1 Axes>"
      ]
     },
     "metadata": {
      "needs_background": "light"
     },
     "output_type": "display_data"
    }
   ],
   "source": [
    "df['mspp'] = df.iloc[:, 10:337].mean(axis = 1)\n",
    "df_sub = df\n",
    "df_sub = df_sub.drop(df_sub.iloc[:, 9:337], axis=1)\n",
    "\n",
    "\n",
    "def rem_mspp(mspp):\n",
    "    if mspp > 50000.0:\n",
    "        return float('NaN')\n",
    "    else:\n",
    "        return mspp\n",
    "\n",
    "\n",
    "df_sub['mspp'] = df_sub['mspp'].apply(rem_mspp)\n",
    "print(df_sub.head())\n",
    "# sns.pairplot(df_sub)\n",
    "# plt.show()\n",
    "\n",
    "df_step_density = df.drop(columns=['city', 'gender', 'age', 'education_1', 'bmi_value'])\n",
    "\n",
    "sns.lmplot(x=\"bmi_score\", y=\"mspp\", fit_reg=False, data=df_sub)\n",
    "plt.xlabel('BMI Score') #use matplotlib to refine Seaborn plot\n",
    "plt.ylabel('Average steps taken')\n",
    "plt.title('Correlation BMI and steps taken.')\n",
    "plt.show()\n",
    "\n",
    "\n",
    "\n",
    "np.isnan(df[\"mspp\"]).any()\n",
    "np.isnan(df[\"bmi_score\"]).any()\n",
    "\n",
    "df[\"mspp\"] = np.nan_to_num(df[\"mspp\"])\n",
    "df[\"bmi_score\"] = np.nan_to_num(df[\"bmi_score\"])\n",
    "df[\"ave_age\"] = np.nan_to_num(df[\"ave_age\"])"
   ]
  },
  {
   "cell_type": "markdown",
   "metadata": {},
   "source": []
  },
  {
   "cell_type": "code",
   "execution_count": 233,
   "metadata": {},
   "outputs": [
    {
     "name": "stdout",
     "output_type": "stream",
     "text": [
      "(0.010631940195808865, 0.7462188666347227)\n",
      "(0.01645426397972085, 0.6164580832987754)\n"
     ]
    }
   ],
   "source": [
    "from scipy.stats.stats import pearsonr #We will need the correlation function from the scientific package scipy\n",
    "\n",
    "\n",
    "\n",
    "print(pearsonr(df['mspp'],df['bmi_score']))\n",
    "print(pearsonr(df['mspp'],df['ave_age']))"
   ]
  },
  {
   "cell_type": "code",
   "execution_count": 234,
   "metadata": {},
   "outputs": [
    {
     "data": {
      "image/png": "[encoded data removed]",
      "text/plain": [
       "<Figure size 432x288 with 2 Axes>"
      ]
     },
     "metadata": {
      "needs_background": "light"
     },
     "output_type": "display_data"
    }
   ],
   "source": [
    "corr = df[['mspp', 'bmi_score', 'ave_age', 'education','hh_size', 'height', 'weight']].corr() #I'm leaving out the corrected variables (divided by 1 million)\n",
    "corr\n",
    "\n",
    "sns.heatmap(corr, xticklabels=corr.columns, yticklabels=corr.columns) #the last two arguments set the column names\n",
    "plt.show()"
   ]
  }
 ],
 "metadata": {
  "interpreter": {
   "hash": "c92dea9ca2b9d00fee440bf5382c84762272d2baf69085fe0971415041ec6f28"
  },
  "kernelspec": {
   "display_name": "Python 3.8.8 64-bit ('base': conda)",
   "language": "python",
   "name": "python3"
  },
  "language_info": {
   "codemirror_mode": {
    "name": "ipython",
    "version": 3
   },
   "file_extension": ".py",
   "mimetype": "text/x-python",
   "name": "python",
   "nbconvert_exporter": "python",
   "pygments_lexer": "ipython3",
   "version": "3.8.8"
  },
  "orig_nbformat": 4
 },
 "nbformat": 4,
 "nbformat_minor": 2
}
