{
 "cells": [
  {
   "cell_type": "markdown",
   "metadata": {},
   "source": [
    "# Linear Regression Assignment \n",
    "\n",
    "## Introduction\n",
    "For this assignment, we are going to explore data from activity trackers. Activity trackers are applications that track your activity using your smartphone, a smartwatch, wrist band or a clip-on device. Popular applications include Steps (iPhone), Apple Watch, Fitbit and Jawbone. For a study in France, over 900 volunteers received a Fitbit Zip (a clip-on activity tracker) and recorded their daily steps, distance and calories. "
   ]
  },
  {
   "cell_type": "code",
   "execution_count": 23,
   "metadata": {},
   "outputs": [],
   "source": [
    "import seaborn as sns #this is the plotting library I'll be using \n",
    "import pandas as pd #\"as pd\" means that we can use the abbreviation in commands\n",
    "import matplotlib.pyplot as plt #we need Matplotlib for setting the labels in the Seaborn graphs\n"
   ]
  },
  {
   "cell_type": "markdown",
   "metadata": {},
   "source": [
    "## Read & Merge files\n",
    "We will merge the csv files on the 'id'-row, since both datasets use it. \n",
    "Also, by using `sep=None`, pandas will automatically recognize the seperator. \n"
   ]
  },
  {
   "cell_type": "code",
   "execution_count": 24,
   "metadata": {},
   "outputs": [
    {
     "data": {
      "text/plain": [
       "72.0     40\n",
       "65.0     35\n",
       "73.0     32\n",
       "80.0     31\n",
       "55.0     31\n",
       "         ..\n",
       "128.0     1\n",
       "116.0     1\n",
       "102.0     1\n",
       "101.0     1\n",
       "105.0     1\n",
       "Name: weight, Length: 72, dtype: int64"
      ]
     },
     "execution_count": 24,
     "metadata": {},
     "output_type": "execute_result"
    }
   ],
   "source": [
    "df1= pd.read_csv('survey.csv', encoding='UTF-8')\n",
    "df2 = pd.read_csv('steps.csv', encoding='UTF-8', sep=None, engine='python')\n",
    "\n",
    "df = pd.merge(df1, df2, on = 'id')\n",
    "\n",
    "\n",
    "df['weight'].value_counts() #Get all the values. This may be less useful when there are many values."
   ]
  },
  {
   "cell_type": "markdown",
   "metadata": {},
   "source": [
    "## Data Cleaning\n",
    "\n",
    "We will remove unlikely values, ex. `weight > 200kg`  or  `weight < 30kg` if these are true, the entire row will be set to NaN."
   ]
  },
  {
   "cell_type": "code",
   "execution_count": 25,
   "metadata": {},
   "outputs": [
    {
     "data": {
      "image/png": "[encoded data removed]",
      "text/plain": [
       "<Figure size 360x360 with 1 Axes>"
      ]
     },
     "metadata": {
      "needs_background": "light"
     },
     "output_type": "display_data"
    }
   ],
   "source": [
    "df['weight'] = df['weight'].apply(pd.to_numeric, errors='coerce')\n",
    "\n",
    "def above_200(weight):\n",
    "    if(weight > 200.0): \n",
    "        return float('NaN')\n",
    "    else: \n",
    "        return weight\n",
    "    \n",
    "def below_30(weight):\n",
    "    if(weight < 30.0):\n",
    "        return float('NaN')\n",
    "    else: \n",
    "        return weight\n",
    "    \n",
    "df['weight'] = df['weight'].apply(above_200)\n",
    "df['weight'] = df['weight'].apply(below_30)\n",
    "\n",
    "\n",
    "sns.displot(df['weight'].dropna(), kde=False) #Selecting the rating column. I need to drop the NA's for the plot\n",
    "plt.title('Weight of Fitbit users.')\n",
    "plt.xlabel('Weight (kg)')\n",
    "plt.ylabel('Count')\n",
    "plt.show()"
   ]
  },
  {
   "cell_type": "markdown",
   "metadata": {},
   "source": [
    "## Feature Engineering"
   ]
  },
  {
   "cell_type": "code",
   "execution_count": 26,
   "metadata": {},
   "outputs": [
    {
     "name": "stdout",
     "output_type": "stream",
     "text": [
      "   id         city  gender    age  hh_size  education          education_1  \\\n",
      "0   1     Bordeaux    Male  25-34        4          4  Master or doctorate   \n",
      "1   2        Lille    Male  35-44        1          3             Bachelor   \n",
      "2   3  Montpellier    Male  25-34        2          2  Master or doctorate   \n",
      "3   4         Lyon    Male    <25        1          1             Bachelor   \n",
      "4   5  Montpellier  Female  25-34        3          4             Bachelor   \n",
      "\n",
      "   height  weight  20-6-2013  ...  4-5-2014  5-5-2014  6-5-2014  7-5-2014  \\\n",
      "0   178.0    98.0        NaN  ...       NaN       NaN       NaN       NaN   \n",
      "1   180.0    77.0        NaN  ...       NaN       NaN       NaN       NaN   \n",
      "2   180.0    83.0        NaN  ...    3914.0    4364.0       NaN       NaN   \n",
      "3   178.0    80.0        NaN  ...       NaN       NaN       NaN       NaN   \n",
      "4   167.0    61.0        NaN  ...       NaN       NaN       NaN       NaN   \n",
      "\n",
      "   8-5-2014  9-5-2014  10-5-2014  11-5-2014  12-5-2014  13-5-2014  \n",
      "0       NaN       NaN        NaN        NaN        NaN        NaN  \n",
      "1       NaN       NaN        NaN        NaN        NaN        NaN  \n",
      "2       NaN    6227.0     4567.0     2567.0     1129.0        NaN  \n",
      "3       NaN       NaN        NaN        NaN        NaN        NaN  \n",
      "4       NaN       NaN        NaN        NaN        NaN        NaN  \n",
      "\n",
      "[5 rows x 337 columns]\n",
      "   id         city  gender   age  hh_size  education          education_1  \\\n",
      "0   1     Bordeaux    Male  30.0        4          4  Master or doctorate   \n",
      "1   2        Lille    Male   NaN        1          3             Bachelor   \n",
      "2   3  Montpellier    Male  30.0        2          2  Master or doctorate   \n",
      "3   4         Lyon    Male  20.0        1          1             Bachelor   \n",
      "4   5  Montpellier  Female  30.0        3          4             Bachelor   \n",
      "\n",
      "   height  weight  20-6-2013  ...  4-5-2014  5-5-2014  6-5-2014  7-5-2014  \\\n",
      "0   178.0    98.0        NaN  ...       NaN       NaN       NaN       NaN   \n",
      "1   180.0    77.0        NaN  ...       NaN       NaN       NaN       NaN   \n",
      "2   180.0    83.0        NaN  ...    3914.0    4364.0       NaN       NaN   \n",
      "3   178.0    80.0        NaN  ...       NaN       NaN       NaN       NaN   \n",
      "4   167.0    61.0        NaN  ...       NaN       NaN       NaN       NaN   \n",
      "\n",
      "   8-5-2014  9-5-2014  10-5-2014  11-5-2014  12-5-2014  13-5-2014  \n",
      "0       NaN       NaN        NaN        NaN        NaN        NaN  \n",
      "1       NaN       NaN        NaN        NaN        NaN        NaN  \n",
      "2       NaN    6227.0     4567.0     2567.0     1129.0        NaN  \n",
      "3       NaN       NaN        NaN        NaN        NaN        NaN  \n",
      "4       NaN       NaN        NaN        NaN        NaN        NaN  \n",
      "\n",
      "[5 rows x 337 columns]\n"
     ]
    }
   ],
   "source": [
    "print(df.head())\n",
    "def average_age(age):\n",
    "    if age == '<25':\n",
    "        return 20\n",
    "    elif age == '25-34':\n",
    "        return 30\n",
    "    elif age == '35-44':\n",
    "        return 40\n",
    "    elif age == '45-54':\n",
    "        return 50\n",
    "    elif age == '55-64':\n",
    "        return 60\n",
    "    elif age == '65-74':\n",
    "        return 70\n",
    "    elif age == '75-84':\n",
    "        return 80\n",
    "\n",
    "df['age'] = df['age'].apply(average_age)\n",
    "print(df.head())"
   ]
  },
  {
   "cell_type": "markdown",
   "metadata": {},
   "source": []
  }
 ],
 "metadata": {
  "interpreter": {
   "hash": "c92dea9ca2b9d00fee440bf5382c84762272d2baf69085fe0971415041ec6f28"
  },
  "kernelspec": {
   "display_name": "Python 3.8.8 64-bit ('base': conda)",
   "language": "python",
   "name": "python3"
  },
  "language_info": {
   "codemirror_mode": {
    "name": "ipython",
    "version": 3
   },
   "file_extension": ".py",
   "mimetype": "text/x-python",
   "name": "python",
   "nbconvert_exporter": "python",
   "pygments_lexer": "ipython3",
   "version": "3.8.8"
  },
  "orig_nbformat": 4
 },
 "nbformat": 4,
 "nbformat_minor": 2
}
